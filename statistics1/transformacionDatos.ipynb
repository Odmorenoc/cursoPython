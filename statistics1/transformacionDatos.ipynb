{
 "cells": [
  {
   "cell_type": "markdown",
   "source": [
    "# Escalamiento de Datos numéricos\n",
    "Se realizará la transformación lineal y no lineal de algunas variables."
   ],
   "metadata": {}
  },
  {
   "cell_type": "markdown",
   "source": [
    "## Transformación lineal\n",
    "\n",
    "Se realizará la transformación por los metodos max_min y zscore"
   ],
   "metadata": {}
  },
  {
   "cell_type": "code",
   "execution_count": 1,
   "source": [
    "#se importan las librerias requeridas.\n",
    "\n",
    "import timeit\n",
    "import numpy as np\n",
    "import pandas as pd\n",
    "import matplotlib.pyplot as plt\n"
   ],
   "outputs": [],
   "metadata": {}
  },
  {
   "cell_type": "code",
   "execution_count": 3,
   "source": [
    "# Se importa los datasets de la libreria scikit-learn\n",
    "## para instalar la libreria \n",
    "## conda install -c conda-forge scikit-learn\n",
    "\n",
    "from sklearn import datasets, linear_model\n",
    "X, y =datasets.load_diabetes(return_X_y=True)\n",
    "raw=X[:, None, 2]"
   ],
   "outputs": [],
   "metadata": {}
  },
  {
   "cell_type": "code",
   "execution_count": 5,
   "source": [
    "# Reglas de escalamiento:\n",
    "\n",
    "max_raw= max(raw)\n",
    "min_raw=min(raw)\n",
    "transformacion_lineal_max_min = (2*raw-min_raw-max_raw)/(max_raw-min_raw)"
   ],
   "outputs": [],
   "metadata": {}
  },
  {
   "cell_type": "code",
   "execution_count": 11,
   "source": [
    "#distribución de los datos originales y escalados, compartiendo el eje X\n",
    "\n",
    "fig, axs = plt.subplots(2,1, sharex = True, sharey = True)\n",
    "axs[0].hist(raw)\n",
    "axs[1].hist(transformacion_lineal_max_min)"
   ],
   "outputs": [
    {
     "output_type": "execute_result",
     "data": {
      "text/plain": [
       "(array([32., 66., 98., 90., 64., 50., 23., 12.,  5.,  2.]),\n",
       " array([-1. , -0.8, -0.6, -0.4, -0.2,  0. ,  0.2,  0.4,  0.6,  0.8,  1. ]),\n",
       " <BarContainer object of 10 artists>)"
      ]
     },
     "metadata": {},
     "execution_count": 11
    },
    {
     "output_type": "display_data",
     "data": {
      "image/png": "[encoded data removed]",
      "text/plain": [
       "<Figure size 432x288 with 2 Axes>"
      ]
     },
     "metadata": {
      "needs_background": "light"
     }
    }
   ],
   "metadata": {}
  },
  {
   "cell_type": "code",
   "execution_count": 12,
   "source": [
    "# modelos para entrenamiento\n",
    "\n",
    "def train_raw():\n",
    "    linear_model.LinearRegression().fit(raw, y)\n",
    "\n",
    "def train_escalada():\n",
    "    linear_model.LinearRegression().fit(transformacion_lineal_max_min, y)"
   ],
   "outputs": [],
   "metadata": {}
  },
  {
   "cell_type": "code",
   "execution_count": 14,
   "source": [
    "raw_time=timeit.timeit(train_raw, number= 100)\n",
    "scaled_time=timeit.timeit(train_escalada, number= 100)\n",
    "print(\"Tiempo de entrenamiento de los datos crudos: {}\".format(raw_time))\n",
    "print(\"Tiempo de entrenamiento de los datos escalados: {}\".format(scaled_time))\n"
   ],
   "outputs": [
    {
     "output_type": "stream",
     "name": "stdout",
     "text": [
      "Tiempo de entrenamiento de los datos crudos: 0.09864389999984269\n",
      "Tiempo de entrenamiento de los datos escalados: 0.07135490000018763\n"
     ]
    }
   ],
   "metadata": {}
  },
  {
   "cell_type": "markdown",
   "source": [
    "Con el analisis del tiempo de entrenamiento del modelo de regresión lineal para los datos crudos `RAW`, se evidencia que se genera una optimización del tiempo de ejecución cuando se escalan los datos.  "
   ],
   "metadata": {}
  },
  {
   "cell_type": "markdown",
   "source": [
    "# Ejercicio: \n",
    "\n",
    "Realizar el calculo del tiempo de entrenamiento pero realizando la transformación lineal `zscore` "
   ],
   "metadata": {}
  },
  {
   "cell_type": "code",
   "execution_count": 16,
   "source": [
    "media=raw.mean()\n",
    "std=raw.std()\n",
    "zscore=(raw-media)/std\n",
    "\n",
    "fig, axs = plt.subplots(3,1, sharex = True, sharey = True)\n",
    "axs[0].hist(raw)\n",
    "axs[1].hist(transformacion_lineal_max_min)\n",
    "axs[2].hist(zscore)\n",
    "\n",
    "def train_zscore():\n",
    "    linear_model.LinearRegression().fit(zscore, y)\n",
    "\n",
    "raw_time2=timeit.timeit(train_raw, number= 100)\n",
    "zscore_time=timeit.timeit(train_zscore, number= 100)\n",
    "print(\"Tiempo de entrenamiento de los datos crudos: {}\".format(raw_time))\n",
    "print(\"Tiempo de entrenamiento de los datos escalados: {}\".format(zscore_time))"
   ],
   "outputs": [
    {
     "output_type": "stream",
     "name": "stdout",
     "text": [
      "Tiempo de entrenamiento de los datos crudos: 0.09864389999984269\n",
      "Tiempo de entrenamiento de los datos escalados: 0.05012059999990015\n"
     ]
    },
    {
     "output_type": "display_data",
     "data": {
      "image/png": "[encoded data removed]",
      "text/plain": [
       "<Figure size 432x288 with 3 Axes>"
      ]
     },
     "metadata": {
      "needs_background": "light"
     }
    }
   ],
   "metadata": {}
  },
  {
   "cell_type": "markdown",
   "source": [
    "## Transformación no lineal\n",
    "\n",
    "Se realizará la transformación con la tangente hiperbolica."
   ],
   "metadata": {}
  },
  {
   "cell_type": "code",
   "execution_count": 17,
   "source": [
    "df = pd.read_csv(\"./notas/cars.csv\")\n",
    "df.price_usd.hist()\n"
   ],
   "outputs": [
    {
     "output_type": "execute_result",
     "data": {
      "text/plain": [
       "<AxesSubplot:>"
      ]
     },
     "metadata": {},
     "execution_count": 17
    },
    {
     "output_type": "display_data",
     "data": {
      "image/png": "[encoded data removed]",
      "text/plain": [
       "<Figure size 432x288 with 1 Axes>"
      ]
     },
     "metadata": {
      "needs_background": "light"
     }
    }
   ],
   "metadata": {}
  },
  {
   "cell_type": "code",
   "execution_count": 18,
   "source": [
    "p=10000\n",
    "tanh=df.price_usd.apply(lambda x: np.tanh(x/p))\n",
    "tanh.hist()\n"
   ],
   "outputs": [
    {
     "output_type": "execute_result",
     "data": {
      "text/plain": [
       "<AxesSubplot:>"
      ]
     },
     "metadata": {},
     "execution_count": 18
    },
    {
     "output_type": "display_data",
     "data": {
      "image/png": "[encoded data removed]",
      "text/plain": [
       "<Figure size 432x288 with 1 Axes>"
      ]
     },
     "metadata": {
      "needs_background": "light"
     }
    }
   ],
   "metadata": {}
  }
 ],
 "metadata": {
  "orig_nbformat": 4,
  "language_info": {
   "name": "python",
   "version": "3.9.7",
   "mimetype": "text/x-python",
   "codemirror_mode": {
    "name": "ipython",
    "version": 3
   },
   "pygments_lexer": "ipython3",
   "nbconvert_exporter": "python",
   "file_extension": ".py"
  },
  "kernelspec": {
   "name": "python3",
   "display_name": "Python 3.9.7 64-bit ('venv': conda)"
  },
  "interpreter": {
   "hash": "3d3aa7984ec499b93e9164574dcbcf09b8e6c420c19f0abd10b680d8756d2024"
  }
 },
 "nbformat": 4,
 "nbformat_minor": 2
}