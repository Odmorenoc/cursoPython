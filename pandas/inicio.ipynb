{
 "cells": [
  {
   "cell_type": "code",
   "execution_count": 4,
   "metadata": {},
   "outputs": [
    {
     "name": "stdout",
     "output_type": "stream",
     "text": [
      "/mnt/d/Platzi/python/proyectopy/basics4\n"
     ]
    }
   ],
   "source": [
    "%cd ../basics4/"
   ]
  },
  {
   "cell_type": "code",
   "execution_count": 5,
   "metadata": {},
   "outputs": [
    {
     "name": "stdout",
     "output_type": "stream",
     "text": [
      "\u001b[0m\u001b[01;32mGenerador.py\u001b[0m*    \u001b[01;32mgeneradorFibonacci.py\u001b[0m*  \u001b[01;32mpalindromoStaticTyping.py\u001b[0m*  \u001b[01;32msets.py\u001b[0m*\n",
      "\u001b[01;32mclosure.py\u001b[0m*      \u001b[01;32miteradorFibonacci.py\u001b[0m*   \u001b[01;32mprimalidadStaticTyping.py\u001b[0m*\n",
      "\u001b[01;32mdecoradores.py\u001b[0m*  \u001b[01;32miteradorPares.py\u001b[0m*       \u001b[01;32mretoClosure.py\u001b[0m*\n"
     ]
    }
   ],
   "source": [
    "%ls"
   ]
  },
  {
   "cell_type": "code",
   "execution_count": 6,
   "metadata": {},
   "outputs": [
    {
     "name": "stdout",
     "output_type": "stream",
     "text": [
      "0\n",
      "1\n",
      "1\n",
      "2\n",
      "3\n",
      "5\n",
      "8\n",
      "13\n",
      "21\n",
      "34\n",
      "55\n"
     ]
    }
   ],
   "source": [
    "%run iteradorFibonacci.py"
   ]
  },
  {
   "cell_type": "code",
   "execution_count": null,
   "metadata": {},
   "outputs": [],
   "source": []
  }
 ],
 "metadata": {
  "interpreter": {
   "hash": "a854680695df430e8873f8fd4edd0040f3cc553d7d7f6adff275b76abcde068f"
  },
  "kernelspec": {
   "display_name": "Python 3.9.7 64-bit ('venv': conda)",
   "language": "python",
   "name": "python3"
  },
  "language_info": {
   "codemirror_mode": {
    "name": "ipython",
    "version": 3
   },
   "file_extension": ".py",
   "mimetype": "text/x-python",
   "name": "python",
   "nbconvert_exporter": "python",
   "pygments_lexer": "ipython3",
   "version": "3.9.7"
  },
  "orig_nbformat": 4
 },
 "nbformat": 4,
 "nbformat_minor": 2
}
